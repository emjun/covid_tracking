{
 "cells": [
  {
   "cell_type": "code",
   "execution_count": 1,
   "metadata": {},
   "outputs": [],
   "source": [
    "import urllib.request\n",
    "import shutil\n",
    "import csv\n",
    "import os\n",
    "import pandas as pd\n",
    "import tea"
   ]
  },
  {
   "cell_type": "code",
   "execution_count": 2,
   "metadata": {},
   "outputs": [],
   "source": [
    "# Download and save data locally\n",
    "states_url = 'https://covidtracking.com/api/states.csv'\n",
    "states_local_path = 'states.csv'\n",
    "\n",
    "# https://stackoverflow.com/questions/7243750/download-file-from-web-in-python-3\n",
    "with urllib.request.urlopen(states_url) as response, open(states_local_path, 'wb') as out_file:\n",
    "    shutil.copyfileobj(response, out_file)"
   ]
  },
  {
   "cell_type": "code",
   "execution_count": 3,
   "metadata": {},
   "outputs": [
    {
     "name": "stdout",
     "output_type": "stream",
     "text": [
      "Index(['state', 'positive', 'positiveScore', 'negativeScore',\n",
      "       'negativeRegularScore', 'commercialScore', 'grade', 'score', 'negative',\n",
      "       'pending', 'hospitalized', 'death', 'total', 'lastUpdateEt',\n",
      "       'checkTimeEt', 'dateModified', 'dateChecked'],\n",
      "      dtype='object')\n"
     ]
    }
   ],
   "source": [
    "data = pd.read_csv(states_local_path)\n",
    "print(data.columns)\n"
   ]
  },
  {
   "cell_type": "code",
   "execution_count": 15,
   "metadata": {},
   "outputs": [],
   "source": [
    "# Tea: Load data from URL. Could also load data from local copy.\n",
    "tea.data(states_local_path)"
   ]
  },
  {
   "cell_type": "code",
   "execution_count": 24,
   "metadata": {},
   "outputs": [],
   "source": [
    "# Tea: Specify variables of interest in dataset\n",
    "variables = [\n",
    "    {\n",
    "        'name' : 'positive',\n",
    "        'data type' : 'ratio'   # Options: 'nominal', 'ordinal', 'interval', 'ratio'\n",
    "    },\n",
    "    {\n",
    "        'name' : 'positiveScore',\n",
    "        'data type' : 'ratio'   # Options: 'nominal', 'ordinal', 'interval', 'ratio'\n",
    "    },\n",
    "    {\n",
    "        'name' : 'pending',\n",
    "        'data type' : 'ratio'\n",
    "    },\n",
    "    {\n",
    "        'name' : 'death',\n",
    "        'data type' : 'ratio'\n",
    "    }\n",
    "]\n",
    "\n",
    "tea.define_variables(variables)"
   ]
  },
  {
   "cell_type": "code",
   "execution_count": 25,
   "metadata": {},
   "outputs": [],
   "source": [
    "# Tea: [OPTIONAL] We don't have any assumptions, so we can skip this step. \n",
    "assumptions = {\n",
    "    'Type I (False Positive) Error Rate': 0.05\n",
    "}\n",
    "\n",
    "tea.assume(assumptions)"
   ]
  },
  {
   "cell_type": "code",
   "execution_count": 28,
   "metadata": {},
   "outputs": [],
   "source": [
    "# Tea: Specify experimental design\n",
    "experimental_design = {\n",
    "                        'study type': 'observational study',   # 'study type' could be 'experiment'\n",
    "                        'contributor variables': ['positive', 'negative'],   # 'experiment's have 'independent variables'\n",
    "                        'outcome variables': 'death',   # 'experiment's have 'dependent variables'\n",
    "                    }\n",
    "tea.define_study_design(experimental_design)"
   ]
  },
  {
   "cell_type": "code",
   "execution_count": null,
   "metadata": {},
   "outputs": [
    {
     "name": "stdout",
     "output_type": "stream",
     "text": [
      "> /usr/local/lib/python3.7/site-packages/tea/z3_solver/solver.py(159)apply()\n",
      "-> assert len(test_vars) == len(self.test_vars)\n"
     ]
    }
   ],
   "source": [
    "# Tea: State and test hypothesis\n",
    "tea.hypothesize(['positive', 'positiveScore'], ['positive ~ positiveScore'])"
   ]
  },
  {
   "cell_type": "code",
   "execution_count": null,
   "metadata": {},
   "outputs": [],
   "source": []
  },
  {
   "cell_type": "code",
   "execution_count": null,
   "metadata": {},
   "outputs": [],
   "source": []
  }
 ],
 "metadata": {
  "kernelspec": {
   "display_name": "Python 3",
   "language": "python",
   "name": "python3"
  },
  "language_info": {
   "codemirror_mode": {
    "name": "ipython",
    "version": 3
   },
   "file_extension": ".py",
   "mimetype": "text/x-python",
   "name": "python",
   "nbconvert_exporter": "python",
   "pygments_lexer": "ipython3",
   "version": "3.7.0"
  }
 },
 "nbformat": 4,
 "nbformat_minor": 2
}
